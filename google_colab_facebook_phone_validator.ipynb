{
  "nbformat": 4,
  "nbformat_minor": 0,
  "metadata": {
    "colab": {
      "name": "google_colab_facebook-phone-validator.ipynb",
      "provenance": [],
      "collapsed_sections": [],
      "authorship_tag": "ABX9TyO7dVvcydLmXji1gKLlc0Ai",
      "include_colab_link": true
    },
    "kernelspec": {
      "name": "python3",
      "display_name": "Python 3"
    },
    "accelerator": "TPU"
  },
  "cells": [
    {
      "cell_type": "markdown",
      "metadata": {
        "id": "view-in-github",
        "colab_type": "text"
      },
      "source": [
        "<a href=\"https://colab.research.google.com/github/albararamli/facebook-phone-validator/blob/master/google_colab_facebook_phone_validator.ipynb\" target=\"_parent\"><img src=\"https://colab.research.google.com/assets/colab-badge.svg\" alt=\"Open In Colab\"/></a>"
      ]
    },
    {
      "cell_type": "code",
      "metadata": {
        "id": "AznsGzVV9oQZ",
        "colab_type": "code",
        "outputId": "fe6dabd3-3359-4c3a-ae79-e3278121e6eb",
        "colab": {
          "base_uri": "https://localhost:8080/",
          "height": 381
        }
      },
      "source": [
        "!pip install selenium\n",
        "!apt-get update # to update ubuntu to correctly run apt install\n",
        "!apt install chromium-chromedriver\n",
        "!cp /usr/lib/chromium-browser/chromedriver /usr/bin\n",
        "import sys\n",
        "sys.path.insert(0,'/usr/lib/chromium-browser/chromedriver')"
      ],
      "execution_count": 6,
      "outputs": [
        {
          "output_type": "stream",
          "text": [
            "Requirement already satisfied: selenium in /usr/local/lib/python3.6/dist-packages (3.141.0)\n",
            "Requirement already satisfied: urllib3 in /usr/local/lib/python3.6/dist-packages (from selenium) (1.24.3)\n",
            "Hit:1 https://cloud.r-project.org/bin/linux/ubuntu bionic-cran35/ InRelease\n",
            "Ign:2 https://developer.download.nvidia.com/compute/cuda/repos/ubuntu1804/x86_64  InRelease\n",
            "Ign:3 https://developer.download.nvidia.com/compute/machine-learning/repos/ubuntu1804/x86_64  InRelease\n",
            "Get:4 http://security.ubuntu.com/ubuntu bionic-security InRelease [88.7 kB]\n",
            "Hit:5 http://ppa.launchpad.net/graphics-drivers/ppa/ubuntu bionic InRelease\n",
            "Hit:6 https://developer.download.nvidia.com/compute/cuda/repos/ubuntu1804/x86_64  Release\n",
            "Hit:7 https://developer.download.nvidia.com/compute/machine-learning/repos/ubuntu1804/x86_64  Release\n",
            "Hit:8 http://archive.ubuntu.com/ubuntu bionic InRelease\n",
            "Get:9 http://archive.ubuntu.com/ubuntu bionic-updates InRelease [88.7 kB]\n",
            "Hit:10 http://ppa.launchpad.net/marutter/c2d4u3.5/ubuntu bionic InRelease\n",
            "Get:12 http://archive.ubuntu.com/ubuntu bionic-backports InRelease [74.6 kB]\n",
            "Fetched 252 kB in 2s (138 kB/s)\n",
            "Reading package lists... Done\n",
            "Reading package lists... Done\n",
            "Building dependency tree       \n",
            "Reading state information... Done\n",
            "chromium-chromedriver is already the newest version (81.0.4044.122-0ubuntu0.18.04.1).\n",
            "0 upgraded, 0 newly installed, 0 to remove and 35 not upgraded.\n",
            "cp: '/usr/lib/chromium-browser/chromedriver' and '/usr/bin/chromedriver' are the same file\n"
          ],
          "name": "stdout"
        }
      ]
    },
    {
      "cell_type": "code",
      "metadata": {
        "id": "am5jOX_f6_TE",
        "colab_type": "code",
        "outputId": "9ed61af2-fb8e-4992-8679-9cbbc39a5ae0",
        "colab": {
          "base_uri": "https://localhost:8080/",
          "height": 69
        }
      },
      "source": [
        "# run using the folowing command to ignore the warning messages\n",
        "# python -W ignore run.py 218925122310 3 1\n",
        "# pre req.\n",
        "#pip install selenium\n",
        "#brew cask upgrade chromedriver\n",
        "import sys\n",
        "import time\n",
        "from selenium import webdriver \n",
        "from time import sleep \n",
        "from selenium.webdriver.chrome.options import Options  \n",
        "#####################\n",
        "#####################\n",
        "phone=218925122310# int(sys.argv[1]) #218925122310\n",
        "add=3 # int(sys.argv[2]) #3\n",
        "inc=100 #int(sys.argv[3]) #1\n",
        "#####################\n",
        "#####################\n",
        "p=\"\"\n",
        "i=0\n",
        "options = webdriver.ChromeOptions()\n",
        "options.add_argument('--headless')\n",
        "options.add_argument('--no-sandbox')\n",
        "options.add_argument('--disable-dev-shm-usage')\n",
        "options.add_argument('window-size=1200x600')\n",
        "f = open(\"list.csv\", \"a\")\n",
        "driver = webdriver.Chrome('chromedriver',options=options) \n",
        "sleep(1) \n",
        "for i in range(0,add*inc,inc):\n",
        "    t1 = time.time()\n",
        "    u=\"+\"+str(phone+i)\n",
        "    driver.get('https://www.facebook.com/') \n",
        "    #print (\"Opened facebook\") \n",
        "    ###sleep(1) \n",
        "    username_box = driver.find_element_by_id('email') \n",
        "    username_box.send_keys(u) \n",
        "    #print (\"Email Id entered=\",u) \n",
        "    ###sleep(1) \n",
        "    password_box = driver.find_element_by_id('pass') \n",
        "    password_box.send_keys(p) \n",
        "    #print (\"Password entered=\",p) \n",
        "    login_box = driver.find_element_by_id('loginbutton') \n",
        "    login_box.click() \n",
        "    ###sleep(1) \n",
        "    #x=driver.find_element_by_css_selector('div._4rbf')\n",
        "    try:\n",
        "        x=driver.find_element_by_class_name('_4rbf')\n",
        "        y=x.get_attribute('innerHTML')\n",
        "    except: \n",
        "        try:\n",
        "            x=driver.find_element_by_class_name('phl')\n",
        "            y=x.get_attribute('innerHTML')\n",
        "        except:\n",
        "            try:\n",
        "                x=driver.find_element_by_class_name('fsl')\n",
        "                y=x.get_attribute('innerHTML')\n",
        "            except:\n",
        "                x=\"\"\n",
        "    a=0\n",
        "    if \"The password you’ve entered is incorrect.\" in y:\n",
        "        r=u+\" [found] \"\n",
        "        a=1\n",
        "    if \"is not associated with any Facebook account.\" in y or \"The email or phone number you’ve entered doesn’t match any account.\" in y or \"The phone number you’ve entered doesn’t match any account.\" in y:\n",
        "        r=u+\" [not found] \"\n",
        "        a=2\n",
        "    if \"Invalid username or password\" in y:\n",
        "        r=u+\" [Invalid] \"\n",
        "        a=3\n",
        "    if a==0:\n",
        "        r=u+\" [Unknown] \"\n",
        "    t2 = time.time()\n",
        "    r=r+\"- \"+str(round(t2-t1,1))\n",
        "    print(r)\n",
        "    if a!=2:\n",
        "        f.write(u+\"\\n\")\n",
        "driver.quit() \n",
        "f.close()\n",
        "r=\"\"\n"
      ],
      "execution_count": 13,
      "outputs": [
        {
          "output_type": "stream",
          "text": [
            "+218925122310 [not found] - 5.5\n",
            "+218925122410 [not found] - 4.7\n",
            "+218925122510 [not found] - 4.5\n"
          ],
          "name": "stdout"
        }
      ]
    }
  ]
}