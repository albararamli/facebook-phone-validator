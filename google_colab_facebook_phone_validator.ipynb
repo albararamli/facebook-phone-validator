{
  "nbformat": 4,
  "nbformat_minor": 0,
  "metadata": {
    "colab": {
      "name": "google_colab_facebook-phone-validator.ipynb",
      "provenance": [],
      "collapsed_sections": [],
      "authorship_tag": "ABX9TyO3Ai3e8Urvq0Dge65gzx9s",
      "include_colab_link": true
    },
    "kernelspec": {
      "name": "python3",
      "display_name": "Python 3"
    }
  },
  "cells": [
    {
      "cell_type": "markdown",
      "metadata": {
        "id": "view-in-github",
        "colab_type": "text"
      },
      "source": [
        "<a href=\"https://colab.research.google.com/github/albararamli/facebook-phone-validator/blob/master/google_colab_facebook_phone_validator.ipynb\" target=\"_parent\"><img src=\"https://colab.research.google.com/assets/colab-badge.svg\" alt=\"Open In Colab\"/></a>"
      ]
    },
    {
      "cell_type": "code",
      "metadata": {
        "id": "AznsGzVV9oQZ",
        "colab_type": "code",
        "outputId": "7042e291-4d43-4249-d80a-b925bcc2ec08",
        "colab": {
          "base_uri": "https://localhost:8080/",
          "height": 1000
        }
      },
      "source": [
        "!pip install selenium\n",
        "!apt-get update # to update ubuntu to correctly run apt install\n",
        "!apt install chromium-chromedriver\n",
        "!cp /usr/lib/chromium-browser/chromedriver /usr/bin\n",
        "import sys\n",
        "sys.path.insert(0,'/usr/lib/chromium-browser/chromedriver')"
      ],
      "execution_count": 0,
      "outputs": [
        {
          "output_type": "stream",
          "text": [
            "Collecting selenium\n",
            "\u001b[?25l  Downloading https://files.pythonhosted.org/packages/80/d6/4294f0b4bce4de0abf13e17190289f9d0613b0a44e5dd6a7f5ca98459853/selenium-3.141.0-py2.py3-none-any.whl (904kB)\n",
            "\r\u001b[K     |▍                               | 10kB 19.8MB/s eta 0:00:01\r\u001b[K     |▊                               | 20kB 3.1MB/s eta 0:00:01\r\u001b[K     |█                               | 30kB 3.6MB/s eta 0:00:01\r\u001b[K     |█▌                              | 40kB 3.0MB/s eta 0:00:01\r\u001b[K     |█▉                              | 51kB 3.2MB/s eta 0:00:01\r\u001b[K     |██▏                             | 61kB 3.8MB/s eta 0:00:01\r\u001b[K     |██▌                             | 71kB 4.1MB/s eta 0:00:01\r\u001b[K     |███                             | 81kB 4.0MB/s eta 0:00:01\r\u001b[K     |███▎                            | 92kB 4.4MB/s eta 0:00:01\r\u001b[K     |███▋                            | 102kB 4.4MB/s eta 0:00:01\r\u001b[K     |████                            | 112kB 4.4MB/s eta 0:00:01\r\u001b[K     |████▍                           | 122kB 4.4MB/s eta 0:00:01\r\u001b[K     |████▊                           | 133kB 4.4MB/s eta 0:00:01\r\u001b[K     |█████                           | 143kB 4.4MB/s eta 0:00:01\r\u001b[K     |█████▍                          | 153kB 4.4MB/s eta 0:00:01\r\u001b[K     |█████▉                          | 163kB 4.4MB/s eta 0:00:01\r\u001b[K     |██████▏                         | 174kB 4.4MB/s eta 0:00:01\r\u001b[K     |██████▌                         | 184kB 4.4MB/s eta 0:00:01\r\u001b[K     |██████▉                         | 194kB 4.4MB/s eta 0:00:01\r\u001b[K     |███████▎                        | 204kB 4.4MB/s eta 0:00:01\r\u001b[K     |███████▋                        | 215kB 4.4MB/s eta 0:00:01\r\u001b[K     |████████                        | 225kB 4.4MB/s eta 0:00:01\r\u001b[K     |████████▎                       | 235kB 4.4MB/s eta 0:00:01\r\u001b[K     |████████▊                       | 245kB 4.4MB/s eta 0:00:01\r\u001b[K     |█████████                       | 256kB 4.4MB/s eta 0:00:01\r\u001b[K     |█████████▍                      | 266kB 4.4MB/s eta 0:00:01\r\u001b[K     |█████████▉                      | 276kB 4.4MB/s eta 0:00:01\r\u001b[K     |██████████▏                     | 286kB 4.4MB/s eta 0:00:01\r\u001b[K     |██████████▌                     | 296kB 4.4MB/s eta 0:00:01\r\u001b[K     |██████████▉                     | 307kB 4.4MB/s eta 0:00:01\r\u001b[K     |███████████▎                    | 317kB 4.4MB/s eta 0:00:01\r\u001b[K     |███████████▋                    | 327kB 4.4MB/s eta 0:00:01\r\u001b[K     |████████████                    | 337kB 4.4MB/s eta 0:00:01\r\u001b[K     |████████████▎                   | 348kB 4.4MB/s eta 0:00:01\r\u001b[K     |████████████▊                   | 358kB 4.4MB/s eta 0:00:01\r\u001b[K     |█████████████                   | 368kB 4.4MB/s eta 0:00:01\r\u001b[K     |█████████████▍                  | 378kB 4.4MB/s eta 0:00:01\r\u001b[K     |█████████████▊                  | 389kB 4.4MB/s eta 0:00:01\r\u001b[K     |██████████████▏                 | 399kB 4.4MB/s eta 0:00:01\r\u001b[K     |██████████████▌                 | 409kB 4.4MB/s eta 0:00:01\r\u001b[K     |██████████████▉                 | 419kB 4.4MB/s eta 0:00:01\r\u001b[K     |███████████████▏                | 430kB 4.4MB/s eta 0:00:01\r\u001b[K     |███████████████▋                | 440kB 4.4MB/s eta 0:00:01\r\u001b[K     |████████████████                | 450kB 4.4MB/s eta 0:00:01\r\u001b[K     |████████████████▎               | 460kB 4.4MB/s eta 0:00:01\r\u001b[K     |████████████████▋               | 471kB 4.4MB/s eta 0:00:01\r\u001b[K     |█████████████████               | 481kB 4.4MB/s eta 0:00:01\r\u001b[K     |█████████████████▍              | 491kB 4.4MB/s eta 0:00:01\r\u001b[K     |█████████████████▊              | 501kB 4.4MB/s eta 0:00:01\r\u001b[K     |██████████████████▏             | 512kB 4.4MB/s eta 0:00:01\r\u001b[K     |██████████████████▌             | 522kB 4.4MB/s eta 0:00:01\r\u001b[K     |██████████████████▉             | 532kB 4.4MB/s eta 0:00:01\r\u001b[K     |███████████████████▏            | 542kB 4.4MB/s eta 0:00:01\r\u001b[K     |███████████████████▋            | 552kB 4.4MB/s eta 0:00:01\r\u001b[K     |████████████████████            | 563kB 4.4MB/s eta 0:00:01\r\u001b[K     |████████████████████▎           | 573kB 4.4MB/s eta 0:00:01\r\u001b[K     |████████████████████▋           | 583kB 4.4MB/s eta 0:00:01\r\u001b[K     |█████████████████████           | 593kB 4.4MB/s eta 0:00:01\r\u001b[K     |█████████████████████▍          | 604kB 4.4MB/s eta 0:00:01\r\u001b[K     |█████████████████████▊          | 614kB 4.4MB/s eta 0:00:01\r\u001b[K     |██████████████████████          | 624kB 4.4MB/s eta 0:00:01\r\u001b[K     |██████████████████████▌         | 634kB 4.4MB/s eta 0:00:01\r\u001b[K     |██████████████████████▉         | 645kB 4.4MB/s eta 0:00:01\r\u001b[K     |███████████████████████▏        | 655kB 4.4MB/s eta 0:00:01\r\u001b[K     |███████████████████████▌        | 665kB 4.4MB/s eta 0:00:01\r\u001b[K     |████████████████████████        | 675kB 4.4MB/s eta 0:00:01\r\u001b[K     |████████████████████████▎       | 686kB 4.4MB/s eta 0:00:01\r\u001b[K     |████████████████████████▋       | 696kB 4.4MB/s eta 0:00:01\r\u001b[K     |█████████████████████████       | 706kB 4.4MB/s eta 0:00:01\r\u001b[K     |█████████████████████████▍      | 716kB 4.4MB/s eta 0:00:01\r\u001b[K     |█████████████████████████▊      | 727kB 4.4MB/s eta 0:00:01\r\u001b[K     |██████████████████████████      | 737kB 4.4MB/s eta 0:00:01\r\u001b[K     |██████████████████████████▍     | 747kB 4.4MB/s eta 0:00:01\r\u001b[K     |██████████████████████████▉     | 757kB 4.4MB/s eta 0:00:01\r\u001b[K     |███████████████████████████▏    | 768kB 4.4MB/s eta 0:00:01\r\u001b[K     |███████████████████████████▌    | 778kB 4.4MB/s eta 0:00:01\r\u001b[K     |████████████████████████████    | 788kB 4.4MB/s eta 0:00:01\r\u001b[K     |████████████████████████████▎   | 798kB 4.4MB/s eta 0:00:01\r\u001b[K     |████████████████████████████▋   | 808kB 4.4MB/s eta 0:00:01\r\u001b[K     |█████████████████████████████   | 819kB 4.4MB/s eta 0:00:01\r\u001b[K     |█████████████████████████████▍  | 829kB 4.4MB/s eta 0:00:01\r\u001b[K     |█████████████████████████████▊  | 839kB 4.4MB/s eta 0:00:01\r\u001b[K     |██████████████████████████████  | 849kB 4.4MB/s eta 0:00:01\r\u001b[K     |██████████████████████████████▍ | 860kB 4.4MB/s eta 0:00:01\r\u001b[K     |██████████████████████████████▉ | 870kB 4.4MB/s eta 0:00:01\r\u001b[K     |███████████████████████████████▏| 880kB 4.4MB/s eta 0:00:01\r\u001b[K     |███████████████████████████████▌| 890kB 4.4MB/s eta 0:00:01\r\u001b[K     |███████████████████████████████▉| 901kB 4.4MB/s eta 0:00:01\r\u001b[K     |████████████████████████████████| 911kB 4.4MB/s \n",
            "\u001b[?25hRequirement already satisfied: urllib3 in /usr/local/lib/python3.6/dist-packages (from selenium) (1.24.3)\n",
            "Installing collected packages: selenium\n",
            "Successfully installed selenium-3.141.0\n",
            "Ign:1 https://developer.download.nvidia.com/compute/cuda/repos/ubuntu1804/x86_64  InRelease\n",
            "Ign:2 https://developer.download.nvidia.com/compute/machine-learning/repos/ubuntu1804/x86_64  InRelease\n",
            "Hit:3 https://developer.download.nvidia.com/compute/cuda/repos/ubuntu1804/x86_64  Release\n",
            "Get:4 http://security.ubuntu.com/ubuntu bionic-security InRelease [88.7 kB]\n",
            "Hit:5 https://developer.download.nvidia.com/compute/machine-learning/repos/ubuntu1804/x86_64  Release\n",
            "Hit:6 http://ppa.launchpad.net/graphics-drivers/ppa/ubuntu bionic InRelease\n",
            "Hit:7 http://archive.ubuntu.com/ubuntu bionic InRelease\n",
            "Get:9 http://archive.ubuntu.com/ubuntu bionic-updates InRelease [88.7 kB]\n",
            "Get:10 https://cloud.r-project.org/bin/linux/ubuntu bionic-cran35/ InRelease [3,626 B]\n",
            "Get:11 http://ppa.launchpad.net/marutter/c2d4u3.5/ubuntu bionic InRelease [15.4 kB]\n",
            "Get:13 http://archive.ubuntu.com/ubuntu bionic-backports InRelease [74.6 kB]\n",
            "Get:14 http://security.ubuntu.com/ubuntu bionic-security/main amd64 Packages [908 kB]\n",
            "Get:15 http://security.ubuntu.com/ubuntu bionic-security/universe amd64 Packages [844 kB]\n",
            "Get:16 http://ppa.launchpad.net/marutter/c2d4u3.5/ubuntu bionic/main Sources [1,814 kB]\n",
            "Get:17 http://archive.ubuntu.com/ubuntu bionic-updates/universe amd64 Packages [1,376 kB]\n",
            "Get:18 http://archive.ubuntu.com/ubuntu bionic-updates/main amd64 Packages [1,205 kB]\n",
            "Get:19 http://ppa.launchpad.net/marutter/c2d4u3.5/ubuntu bionic/main amd64 Packages [875 kB]\n",
            "Fetched 7,294 kB in 4s (1,833 kB/s)\n",
            "Reading package lists... Done\n",
            "Reading package lists... Done\n",
            "Building dependency tree       \n",
            "Reading state information... Done\n",
            "The following additional packages will be installed:\n",
            "  chromium-browser chromium-browser-l10n chromium-codecs-ffmpeg-extra\n",
            "Suggested packages:\n",
            "  webaccounts-chromium-extension unity-chromium-extension adobe-flashplugin\n",
            "The following NEW packages will be installed:\n",
            "  chromium-browser chromium-browser-l10n chromium-chromedriver\n",
            "  chromium-codecs-ffmpeg-extra\n",
            "0 upgraded, 4 newly installed, 0 to remove and 35 not upgraded.\n",
            "Need to get 77.2 MB of archives.\n",
            "After this operation, 264 MB of additional disk space will be used.\n",
            "Get:1 http://archive.ubuntu.com/ubuntu bionic-updates/universe amd64 chromium-codecs-ffmpeg-extra amd64 81.0.4044.122-0ubuntu0.18.04.1 [1,095 kB]\n",
            "Get:2 http://archive.ubuntu.com/ubuntu bionic-updates/universe amd64 chromium-browser amd64 81.0.4044.122-0ubuntu0.18.04.1 [68.8 MB]\n",
            "Get:3 http://archive.ubuntu.com/ubuntu bionic-updates/universe amd64 chromium-browser-l10n all 81.0.4044.122-0ubuntu0.18.04.1 [3,230 kB]\n",
            "Get:4 http://archive.ubuntu.com/ubuntu bionic-updates/universe amd64 chromium-chromedriver amd64 81.0.4044.122-0ubuntu0.18.04.1 [4,070 kB]\n",
            "Fetched 77.2 MB in 5s (15.4 MB/s)\n",
            "Selecting previously unselected package chromium-codecs-ffmpeg-extra.\n",
            "(Reading database ... 144429 files and directories currently installed.)\n",
            "Preparing to unpack .../chromium-codecs-ffmpeg-extra_81.0.4044.122-0ubuntu0.18.04.1_amd64.deb ...\n",
            "Unpacking chromium-codecs-ffmpeg-extra (81.0.4044.122-0ubuntu0.18.04.1) ...\n",
            "Selecting previously unselected package chromium-browser.\n",
            "Preparing to unpack .../chromium-browser_81.0.4044.122-0ubuntu0.18.04.1_amd64.deb ...\n",
            "Unpacking chromium-browser (81.0.4044.122-0ubuntu0.18.04.1) ...\n",
            "Selecting previously unselected package chromium-browser-l10n.\n",
            "Preparing to unpack .../chromium-browser-l10n_81.0.4044.122-0ubuntu0.18.04.1_all.deb ...\n",
            "Unpacking chromium-browser-l10n (81.0.4044.122-0ubuntu0.18.04.1) ...\n",
            "Selecting previously unselected package chromium-chromedriver.\n",
            "Preparing to unpack .../chromium-chromedriver_81.0.4044.122-0ubuntu0.18.04.1_amd64.deb ...\n",
            "Unpacking chromium-chromedriver (81.0.4044.122-0ubuntu0.18.04.1) ...\n",
            "Setting up chromium-codecs-ffmpeg-extra (81.0.4044.122-0ubuntu0.18.04.1) ...\n",
            "Setting up chromium-browser (81.0.4044.122-0ubuntu0.18.04.1) ...\n",
            "update-alternatives: using /usr/bin/chromium-browser to provide /usr/bin/x-www-browser (x-www-browser) in auto mode\n",
            "update-alternatives: using /usr/bin/chromium-browser to provide /usr/bin/gnome-www-browser (gnome-www-browser) in auto mode\n",
            "Setting up chromium-chromedriver (81.0.4044.122-0ubuntu0.18.04.1) ...\n",
            "Setting up chromium-browser-l10n (81.0.4044.122-0ubuntu0.18.04.1) ...\n",
            "Processing triggers for hicolor-icon-theme (0.17-2) ...\n",
            "Processing triggers for mime-support (3.60ubuntu1) ...\n",
            "Processing triggers for man-db (2.8.3-2ubuntu0.1) ...\n",
            "cp: '/usr/lib/chromium-browser/chromedriver' and '/usr/bin/chromedriver' are the same file\n"
          ],
          "name": "stdout"
        }
      ]
    },
    {
      "cell_type": "code",
      "metadata": {
        "id": "am5jOX_f6_TE",
        "colab_type": "code",
        "outputId": "aa0d2914-7cf3-48d6-d283-f2afdba500c2",
        "colab": {
          "base_uri": "https://localhost:8080/",
          "height": 69
        }
      },
      "source": [
        "# run using the folowing command to ignore the warning messages\n",
        "# python -W ignore run.py 218925122310 3 1\n",
        "# pre req.\n",
        "#pip install selenium\n",
        "#brew cask upgrade chromedriver\n",
        "import sys\n",
        "import time\n",
        "from selenium import webdriver \n",
        "from time import sleep \n",
        "from selenium.webdriver.chrome.options import Options  \n",
        "#####################\n",
        "#####################\n",
        "phone=218925122310# int(sys.argv[1]) #218925122310\n",
        "add=3 # int(sys.argv[2]) #3\n",
        "inc=1 #int(sys.argv[3]) #1\n",
        "#####################\n",
        "#####################\n",
        "p=\"\"\n",
        "i=0\n",
        "options = webdriver.ChromeOptions()\n",
        "options.add_argument('--headless')\n",
        "options.add_argument('--no-sandbox')\n",
        "options.add_argument('--disable-dev-shm-usage')\n",
        "options.add_argument('window-size=1200x600')\n",
        "\n",
        "f = open(\"list.csv\", \"a\")\n",
        "driver = webdriver.Chrome('chromedriver',options=options) \n",
        "sleep(1) \n",
        "for i in range(0,add*inc,inc):\n",
        "    t1 = time.time()\n",
        "    u=\"+\"+str(phone+i)\n",
        "    driver.get('https://www.facebook.com/') \n",
        "    #print (\"Opened facebook\") \n",
        "    sleep(1) \n",
        "    username_box = driver.find_element_by_id('email') \n",
        "    username_box.send_keys(u) \n",
        "    #print (\"Email Id entered=\",u) \n",
        "    sleep(1) \n",
        "    password_box = driver.find_element_by_id('pass') \n",
        "    password_box.send_keys(p) \n",
        "    #print (\"Password entered=\",p) \n",
        "    login_box = driver.find_element_by_id('loginbutton') \n",
        "    login_box.click() \n",
        "    sleep(1) \n",
        "    #x=driver.find_element_by_css_selector('div._4rbf')\n",
        "    x=driver.find_element_by_class_name('_4rbf')\n",
        "    ###sleep(1) \n",
        "    y=x.get_attribute('innerHTML')\n",
        "    a=0\n",
        "    if \"The password you’ve entered is incorrect.\" in y:\n",
        "        r=u+\" [found] \"\n",
        "        a=1\n",
        "    if \"is not associated with any Facebook account.\" in y or \"The email or phone number you’ve entered doesn’t match any account.\" in y or \"The phone number you’ve entered doesn’t match any account.\" in y:\n",
        "        r=u+\" [not found] \"\n",
        "        a=2\n",
        "    if a==0:\n",
        "        r=u+\" [Unknown] \"\n",
        "    t2 = time.time()\n",
        "    r=r+\"- \"+str(round(t2-t1,1))\n",
        "    print(r)\n",
        "    if a==1:\n",
        "        f.write(u+\"\\n\")\n",
        "driver.quit() \n",
        "f.close()\n",
        "r=\"\"\n"
      ],
      "execution_count": 0,
      "outputs": [
        {
          "output_type": "stream",
          "text": [
            "+218925122310 [not found] - 6.7\n",
            "+218925122311 [found] - 6.5\n",
            "+218925122312 [found] - 6.4\n"
          ],
          "name": "stdout"
        }
      ]
    }
  ]
}