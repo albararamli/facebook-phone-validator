{
  "nbformat": 4,
  "nbformat_minor": 0,
  "metadata": {
    "colab": {
      "name": "google_colab_facebook-phone-validator.ipynb",
      "provenance": [],
      "collapsed_sections": [],
      "authorship_tag": "ABX9TyMmfepH7Inno7cl9OSO0NgR",
      "include_colab_link": true
    },
    "kernelspec": {
      "name": "python3",
      "display_name": "Python 3"
    }
  },
  "cells": [
    {
      "cell_type": "markdown",
      "metadata": {
        "id": "view-in-github",
        "colab_type": "text"
      },
      "source": [
        "<a href=\"https://colab.research.google.com/github/albararamli/facebook-phone-validator/blob/master/google_colab_facebook_phone_validator.ipynb\" target=\"_parent\"><img src=\"https://colab.research.google.com/assets/colab-badge.svg\" alt=\"Open In Colab\"/></a>"
      ]
    },
    {
      "cell_type": "code",
      "metadata": {
        "id": "AznsGzVV9oQZ",
        "colab_type": "code",
        "colab": {
          "base_uri": "https://localhost:8080/",
          "height": 364
        },
        "outputId": "59a1be60-52fa-45be-de36-0eadf1727ac1"
      },
      "source": [
        "!pip install selenium\n",
        "!apt-get update # to update ubuntu to correctly run apt install\n",
        "!apt install chromium-chromedriver\n",
        "!cp /usr/lib/chromium-browser/chromedriver /usr/bin\n",
        "import sys\n",
        "sys.path.insert(0,'/usr/lib/chromium-browser/chromedriver')"
      ],
      "execution_count": 2,
      "outputs": [
        {
          "output_type": "stream",
          "text": [
            "Requirement already satisfied: selenium in /usr/local/lib/python3.6/dist-packages (3.141.0)\n",
            "Requirement already satisfied: urllib3 in /usr/local/lib/python3.6/dist-packages (from selenium) (1.24.3)\n",
            "Hit:1 https://cloud.r-project.org/bin/linux/ubuntu bionic-cran35/ InRelease\n",
            "Ign:2 https://developer.download.nvidia.com/compute/cuda/repos/ubuntu1804/x86_64  InRelease\n",
            "Hit:3 http://security.ubuntu.com/ubuntu bionic-security InRelease\n",
            "Hit:4 http://ppa.launchpad.net/graphics-drivers/ppa/ubuntu bionic InRelease\n",
            "Ign:5 https://developer.download.nvidia.com/compute/machine-learning/repos/ubuntu1804/x86_64  InRelease\n",
            "Hit:6 http://archive.ubuntu.com/ubuntu bionic InRelease\n",
            "Hit:7 https://developer.download.nvidia.com/compute/cuda/repos/ubuntu1804/x86_64  Release\n",
            "Hit:8 https://developer.download.nvidia.com/compute/machine-learning/repos/ubuntu1804/x86_64  Release\n",
            "Hit:9 http://archive.ubuntu.com/ubuntu bionic-updates InRelease\n",
            "Hit:10 http://ppa.launchpad.net/marutter/c2d4u3.5/ubuntu bionic InRelease\n",
            "Hit:11 http://archive.ubuntu.com/ubuntu bionic-backports InRelease\n",
            "Reading package lists... Done\n",
            "Reading package lists... Done\n",
            "Building dependency tree       \n",
            "Reading state information... Done\n",
            "chromium-chromedriver is already the newest version (81.0.4044.122-0ubuntu0.18.04.1).\n",
            "0 upgraded, 0 newly installed, 0 to remove and 34 not upgraded.\n",
            "cp: '/usr/lib/chromium-browser/chromedriver' and '/usr/bin/chromedriver' are the same file\n"
          ],
          "name": "stdout"
        }
      ]
    },
    {
      "cell_type": "code",
      "metadata": {
        "id": "am5jOX_f6_TE",
        "colab_type": "code",
        "outputId": "6ecc42d2-0ee9-4766-9107-33a813e3063b",
        "colab": {
          "base_uri": "https://localhost:8080/",
          "height": 69
        }
      },
      "source": [
        "# run using the folowing command to ignore the warning messages\n",
        "# python -W ignore run.py 218925122310 3 1\n",
        "# pre req.\n",
        "#pip install selenium\n",
        "#brew cask upgrade chromedriver\n",
        "import sys\n",
        "import time\n",
        "from selenium import webdriver \n",
        "from time import sleep \n",
        "from selenium.webdriver.chrome.options import Options  \n",
        "#####################\n",
        "#####################\n",
        "phone=218925122310# int(sys.argv[1]) #218925122310\n",
        "add=3 # int(sys.argv[2]) #3\n",
        "inc=1 #int(sys.argv[3]) #1\n",
        "#####################\n",
        "#####################\n",
        "p=\"\"\n",
        "i=0\n",
        "options = webdriver.ChromeOptions()\n",
        "options.add_argument('--headless')\n",
        "options.add_argument('--no-sandbox')\n",
        "options.add_argument('--disable-dev-shm-usage')\n",
        "options.add_argument('window-size=1200x600')\n",
        "\n",
        "f = open(\"list.csv\", \"a\")\n",
        "driver = webdriver.Chrome('chromedriver',options=options) \n",
        "sleep(1) \n",
        "for i in range(0,add*inc,inc):\n",
        "    t1 = time.time()\n",
        "    u=\"+\"+str(phone+i)\n",
        "    driver.get('https://www.facebook.com/') \n",
        "    #print (\"Opened facebook\") \n",
        "    sleep(1) \n",
        "    username_box = driver.find_element_by_id('email') \n",
        "    username_box.send_keys(u) \n",
        "    #print (\"Email Id entered=\",u) \n",
        "    sleep(1) \n",
        "    password_box = driver.find_element_by_id('pass') \n",
        "    password_box.send_keys(p) \n",
        "    #print (\"Password entered=\",p) \n",
        "    login_box = driver.find_element_by_id('loginbutton') \n",
        "    login_box.click() \n",
        "    sleep(1) \n",
        "    x=driver.find_element_by_css_selector('div._4rbf')\n",
        "    ###sleep(1) \n",
        "    y=x.get_attribute('innerHTML')\n",
        "    a=0\n",
        "    if \"The password you’ve entered is incorrect.\" in y:\n",
        "        r=u+\" [found] \"\n",
        "        a=1\n",
        "    if \"The email or phone number you’ve entered doesn’t match any account.\" in y or \"The phone number you’ve entered doesn’t match any account.\" in y:\n",
        "        r=u+\" [not found] \"\n",
        "        a=2\n",
        "    if a==0:\n",
        "        r=u+\" [Unknown] \"\n",
        "    t2 = time.time()\n",
        "    r=r+\"- \"+str(round(t2-t1,1))\n",
        "    print(r)\n",
        "    if a==1:\n",
        "        f.write(u+\"\\n\")\n",
        "driver.quit() \n",
        "f.close()\n",
        "r=\"\"\n"
      ],
      "execution_count": 5,
      "outputs": [
        {
          "output_type": "stream",
          "text": [
            "+218925122310 [not found] - 8.7\n",
            "+218925122311 [found] - 10.0\n",
            "+218925122312 [found] - 8.4\n"
          ],
          "name": "stdout"
        }
      ]
    }
  ]
}