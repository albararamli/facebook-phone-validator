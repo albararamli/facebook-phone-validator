{
  "nbformat": 4,
  "nbformat_minor": 0,
  "metadata": {
    "colab": {
      "name": "google_colab_facebook-phone-validator.ipynb",
      "provenance": [],
      "collapsed_sections": [],
      "authorship_tag": "ABX9TyN43b1e4H4DNIiKn9/VJ4mf",
      "include_colab_link": true
    },
    "kernelspec": {
      "name": "python3",
      "display_name": "Python 3"
    },
    "accelerator": "TPU"
  },
  "cells": [
    {
      "cell_type": "markdown",
      "metadata": {
        "id": "view-in-github",
        "colab_type": "text"
      },
      "source": [
        "<a href=\"https://colab.research.google.com/github/albararamli/facebook-phone-validator/blob/master/google_colab_facebook_phone_validator.ipynb\" target=\"_parent\"><img src=\"https://colab.research.google.com/assets/colab-badge.svg\" alt=\"Open In Colab\"/></a>"
      ]
    },
    {
      "cell_type": "code",
      "metadata": {
        "id": "AznsGzVV9oQZ",
        "colab_type": "code",
        "outputId": "16a9df9e-117d-4dfd-81a0-1ffbef7fba21",
        "colab": {
          "base_uri": "https://localhost:8080/",
          "height": 1000
        }
      },
      "source": [
        "!pip install selenium\n",
        "!apt-get update # to update ubuntu to correctly run apt install\n",
        "!apt install chromium-chromedriver\n",
        "!cp /usr/lib/chromium-browser/chromedriver /usr/bin\n",
        "import sys\n",
        "sys.path.insert(0,'/usr/lib/chromium-browser/chromedriver')"
      ],
      "execution_count": 2,
      "outputs": [
        {
          "output_type": "stream",
          "text": [
            "Collecting selenium\n",
            "\u001b[?25l  Downloading https://files.pythonhosted.org/packages/80/d6/4294f0b4bce4de0abf13e17190289f9d0613b0a44e5dd6a7f5ca98459853/selenium-3.141.0-py2.py3-none-any.whl (904kB)\n",
            "\u001b[K     |████████████████████████████████| 911kB 3.2MB/s \n",
            "\u001b[?25hRequirement already satisfied: urllib3 in /usr/local/lib/python3.6/dist-packages (from selenium) (1.24.3)\n",
            "Installing collected packages: selenium\n",
            "Successfully installed selenium-3.141.0\n",
            "Get:1 http://security.ubuntu.com/ubuntu bionic-security InRelease [88.7 kB]\n",
            "Get:2 https://cloud.r-project.org/bin/linux/ubuntu bionic-cran35/ InRelease [3,626 B]\n",
            "Hit:3 http://ppa.launchpad.net/graphics-drivers/ppa/ubuntu bionic InRelease\n",
            "Hit:4 http://archive.ubuntu.com/ubuntu bionic InRelease\n",
            "Ign:5 https://developer.download.nvidia.com/compute/cuda/repos/ubuntu1804/x86_64  InRelease\n",
            "Get:6 http://archive.ubuntu.com/ubuntu bionic-updates InRelease [88.7 kB]\n",
            "Ign:7 https://developer.download.nvidia.com/compute/machine-learning/repos/ubuntu1804/x86_64  InRelease\n",
            "Hit:8 https://developer.download.nvidia.com/compute/cuda/repos/ubuntu1804/x86_64  Release\n",
            "Hit:9 https://developer.download.nvidia.com/compute/machine-learning/repos/ubuntu1804/x86_64  Release\n",
            "Get:10 http://ppa.launchpad.net/marutter/c2d4u3.5/ubuntu bionic InRelease [15.4 kB]\n",
            "Get:11 http://security.ubuntu.com/ubuntu bionic-security/main amd64 Packages [908 kB]\n",
            "Get:12 http://archive.ubuntu.com/ubuntu bionic-backports InRelease [74.6 kB]\n",
            "Get:13 http://security.ubuntu.com/ubuntu bionic-security/universe amd64 Packages [844 kB]\n",
            "Get:16 http://ppa.launchpad.net/marutter/c2d4u3.5/ubuntu bionic/main Sources [1,814 kB]\n",
            "Get:17 http://archive.ubuntu.com/ubuntu bionic-updates/universe amd64 Packages [1,376 kB]\n",
            "Get:18 http://archive.ubuntu.com/ubuntu bionic-updates/main amd64 Packages [1,205 kB]\n",
            "Get:19 http://ppa.launchpad.net/marutter/c2d4u3.5/ubuntu bionic/main amd64 Packages [875 kB]\n",
            "Fetched 7,294 kB in 3s (2,139 kB/s)\n",
            "Reading package lists... Done\n",
            "Reading package lists... Done\n",
            "Building dependency tree       \n",
            "Reading state information... Done\n",
            "The following additional packages will be installed:\n",
            "  chromium-browser chromium-browser-l10n chromium-codecs-ffmpeg-extra\n",
            "Suggested packages:\n",
            "  webaccounts-chromium-extension unity-chromium-extension adobe-flashplugin\n",
            "The following NEW packages will be installed:\n",
            "  chromium-browser chromium-browser-l10n chromium-chromedriver\n",
            "  chromium-codecs-ffmpeg-extra\n",
            "0 upgraded, 4 newly installed, 0 to remove and 35 not upgraded.\n",
            "Need to get 77.2 MB of archives.\n",
            "After this operation, 264 MB of additional disk space will be used.\n",
            "Get:1 http://archive.ubuntu.com/ubuntu bionic-updates/universe amd64 chromium-codecs-ffmpeg-extra amd64 81.0.4044.122-0ubuntu0.18.04.1 [1,095 kB]\n",
            "Get:2 http://archive.ubuntu.com/ubuntu bionic-updates/universe amd64 chromium-browser amd64 81.0.4044.122-0ubuntu0.18.04.1 [68.8 MB]\n",
            "Get:3 http://archive.ubuntu.com/ubuntu bionic-updates/universe amd64 chromium-browser-l10n all 81.0.4044.122-0ubuntu0.18.04.1 [3,230 kB]\n",
            "Get:4 http://archive.ubuntu.com/ubuntu bionic-updates/universe amd64 chromium-chromedriver amd64 81.0.4044.122-0ubuntu0.18.04.1 [4,070 kB]\n",
            "Fetched 77.2 MB in 4s (21.5 MB/s)\n",
            "Selecting previously unselected package chromium-codecs-ffmpeg-extra.\n",
            "(Reading database ... 144429 files and directories currently installed.)\n",
            "Preparing to unpack .../chromium-codecs-ffmpeg-extra_81.0.4044.122-0ubuntu0.18.04.1_amd64.deb ...\n",
            "Unpacking chromium-codecs-ffmpeg-extra (81.0.4044.122-0ubuntu0.18.04.1) ...\n",
            "Selecting previously unselected package chromium-browser.\n",
            "Preparing to unpack .../chromium-browser_81.0.4044.122-0ubuntu0.18.04.1_amd64.deb ...\n",
            "Unpacking chromium-browser (81.0.4044.122-0ubuntu0.18.04.1) ...\n",
            "Selecting previously unselected package chromium-browser-l10n.\n",
            "Preparing to unpack .../chromium-browser-l10n_81.0.4044.122-0ubuntu0.18.04.1_all.deb ...\n",
            "Unpacking chromium-browser-l10n (81.0.4044.122-0ubuntu0.18.04.1) ...\n",
            "Selecting previously unselected package chromium-chromedriver.\n",
            "Preparing to unpack .../chromium-chromedriver_81.0.4044.122-0ubuntu0.18.04.1_amd64.deb ...\n",
            "Unpacking chromium-chromedriver (81.0.4044.122-0ubuntu0.18.04.1) ...\n",
            "Setting up chromium-codecs-ffmpeg-extra (81.0.4044.122-0ubuntu0.18.04.1) ...\n",
            "Setting up chromium-browser (81.0.4044.122-0ubuntu0.18.04.1) ...\n",
            "update-alternatives: using /usr/bin/chromium-browser to provide /usr/bin/x-www-browser (x-www-browser) in auto mode\n",
            "update-alternatives: using /usr/bin/chromium-browser to provide /usr/bin/gnome-www-browser (gnome-www-browser) in auto mode\n",
            "Setting up chromium-chromedriver (81.0.4044.122-0ubuntu0.18.04.1) ...\n",
            "Setting up chromium-browser-l10n (81.0.4044.122-0ubuntu0.18.04.1) ...\n",
            "Processing triggers for hicolor-icon-theme (0.17-2) ...\n",
            "Processing triggers for mime-support (3.60ubuntu1) ...\n",
            "Processing triggers for man-db (2.8.3-2ubuntu0.1) ...\n",
            "cp: '/usr/lib/chromium-browser/chromedriver' and '/usr/bin/chromedriver' are the same file\n"
          ],
          "name": "stdout"
        }
      ]
    },
    {
      "cell_type": "code",
      "metadata": {
        "id": "am5jOX_f6_TE",
        "colab_type": "code",
        "outputId": "6b2518d1-dcc2-449e-db6e-83626b4370f1",
        "colab": {
          "base_uri": "https://localhost:8080/",
          "height": 69
        }
      },
      "source": [
        "# run using the folowing command to ignore the warning messages\n",
        "# python -W ignore run.py 218925122310 3 1\n",
        "# pre req.\n",
        "#pip install selenium\n",
        "#brew cask upgrade chromedriver\n",
        "import sys\n",
        "import time\n",
        "from selenium import webdriver \n",
        "from time import sleep \n",
        "from selenium.webdriver.chrome.options import Options  \n",
        "#####################\n",
        "#####################\n",
        "phone=218925122310# int(sys.argv[1]) #218925122310\n",
        "add=3 # int(sys.argv[2]) #3\n",
        "inc=100 #int(sys.argv[3]) #1\n",
        "#####################\n",
        "#####################\n",
        "p=\"\"\n",
        "i=0\n",
        "options = webdriver.ChromeOptions()\n",
        "options.add_argument('--headless')\n",
        "options.add_argument('--no-sandbox')\n",
        "options.add_argument('--disable-dev-shm-usage')\n",
        "options.add_argument('window-size=1200x600')\n",
        "\n",
        "f = open(\"list.csv\", \"a\")\n",
        "driver = webdriver.Chrome('chromedriver',options=options) \n",
        "sleep(1) \n",
        "for i in range(0,add*inc,inc):\n",
        "    t1 = time.time()\n",
        "    u=\"+\"+str(phone+i)\n",
        "    driver.get('https://www.facebook.com/') \n",
        "    #print (\"Opened facebook\") \n",
        "    ###sleep(1) \n",
        "    username_box = driver.find_element_by_id('email') \n",
        "    username_box.send_keys(u) \n",
        "    #print (\"Email Id entered=\",u) \n",
        "    ###sleep(1) \n",
        "    password_box = driver.find_element_by_id('pass') \n",
        "    password_box.send_keys(p) \n",
        "    #print (\"Password entered=\",p) \n",
        "    login_box = driver.find_element_by_id('loginbutton') \n",
        "    login_box.click() \n",
        "    ###sleep(1) \n",
        "    #x=driver.find_element_by_css_selector('div._4rbf')\n",
        "    try:\n",
        "        x=driver.find_element_by_class_name('_4rbf')\n",
        "    except: \n",
        "        x=driver.find_element_by_class_name('phl')\n",
        "    ###sleep(1) \n",
        "    y=x.get_attribute('innerHTML')\n",
        "    a=0\n",
        "    if \"The password you’ve entered is incorrect.\" in y:\n",
        "        r=u+\" [found] \"\n",
        "        a=1\n",
        "    if \"is not associated with any Facebook account.\" in y or \"The email or phone number you’ve entered doesn’t match any account.\" in y or \"The phone number you’ve entered doesn’t match any account.\" in y:\n",
        "        r=u+\" [not found] \"\n",
        "        a=2\n",
        "    if a==0:\n",
        "        r=u+\" [Unknown] \"\n",
        "    t2 = time.time()\n",
        "    r=r+\"- \"+str(round(t2-t1,1))\n",
        "    print(r)\n",
        "    if a==1:\n",
        "        f.write(u+\"\\n\")\n",
        "driver.quit() \n",
        "f.close()\n",
        "r=\"\"\n"
      ],
      "execution_count": 5,
      "outputs": [
        {
          "output_type": "stream",
          "text": [
            "+218925122310 [not found] - 6.0\n",
            "+218925122410 [not found] - 4.8\n",
            "+218925122510 [not found] - 4.9\n"
          ],
          "name": "stdout"
        }
      ]
    }
  ]
}